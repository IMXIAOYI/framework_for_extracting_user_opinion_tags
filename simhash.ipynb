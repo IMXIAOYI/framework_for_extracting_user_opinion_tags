{
 "cells": [
  {
   "cell_type": "code",
   "execution_count": 14,
   "metadata": {},
   "outputs": [],
   "source": [
    "from simhash import Simhash\n",
    "import string"
   ]
  },
  {
   "cell_type": "code",
   "execution_count": 15,
   "metadata": {},
   "outputs": [],
   "source": [
    "import re\n",
    "from simhash import Simhash, SimhashIndex\n",
    "def get_features(s):\n",
    "    width = 3\n",
    "    s = s.lower()\n",
    "    s = re.sub(r'[^\\w]+', '', s)\n",
    "    return [s[i:i + width] for i in range(max(len(s) - width + 1, 1))]"
   ]
  },
  {
   "cell_type": "code",
   "execution_count": 16,
   "metadata": {},
   "outputs": [],
   "source": [
    "#load data, remove punctuations, lower letters and read into list\n",
    "x=[]\n",
    "with open(\"yelp Review.txt\") as lines:\n",
    "    for line in lines:\n",
    "        x.append(line.strip().translate(string.punctuation).lower())\n",
    "with open(\"result_OVERALL.txt\") as lines:\n",
    "    for line in lines:\n",
    "        x.append(line.strip().translate(string.punctuation).lower())"
   ]
  },
  {
   "cell_type": "code",
   "execution_count": 17,
   "metadata": {},
   "outputs": [],
   "source": [
    "#remove duplication first\n",
    "x=list(set(x))"
   ]
  },
  {
   "cell_type": "code",
   "execution_count": 18,
   "metadata": {},
   "outputs": [],
   "source": [
    "#transfer list to dictionary, prep for nest step \n",
    "data={v+1: u\"{}\".format(k) for v, k in enumerate(x)}"
   ]
  },
  {
   "cell_type": "code",
   "execution_count": 19,
   "metadata": {},
   "outputs": [],
   "source": [
    "#use simhash to remove duplication \n",
    "objs = [(str(k), Simhash(get_features(v))) for k, v in data.items()]\n",
    "index = SimhashIndex(objs, k=3)\n",
    "\n",
    "duplist=[]\n",
    "output=[]\n",
    "\n",
    "for key in list(data.keys()):\n",
    "    duplist.append(index.get_near_dups(Simhash(get_features(data.get(key)))))\n",
    "\n",
    "seen = set()\n",
    "duplist=[x for x in duplist if frozenset(x) not in seen and not seen.add(frozenset(x))]\n",
    "\n",
    "for alist in duplist:\n",
    "    if(len(alist)<2):\n",
    "        output.append(alist[0])\n",
    "    else: \n",
    "        alist.sort()\n",
    "        output.append(alist[0])"
   ]
  },
  {
   "cell_type": "code",
   "execution_count": 20,
   "metadata": {},
   "outputs": [],
   "source": [
    "#store unique labels by output\n",
    "labels=[]\n",
    "for i in output:\n",
    "    labels.append(data.get(int(i)))"
   ]
  },
  {
   "cell_type": "code",
   "execution_count": 21,
   "metadata": {},
   "outputs": [],
   "source": [
    "file = open('labels.txt', 'w')\n",
    "for item in labels:\n",
    "    file.write(\"%s\\n\" % item)"
   ]
  },
  {
   "cell_type": "code",
   "execution_count": null,
   "metadata": {},
   "outputs": [],
   "source": []
  }
 ],
 "metadata": {
  "kernelspec": {
   "display_name": "Python 3",
   "language": "python",
   "name": "python3"
  },
  "language_info": {
   "codemirror_mode": {
    "name": "ipython",
    "version": 3
   },
   "file_extension": ".py",
   "mimetype": "text/x-python",
   "name": "python",
   "nbconvert_exporter": "python",
   "pygments_lexer": "ipython3",
   "version": "3.6.3"
  }
 },
 "nbformat": 4,
 "nbformat_minor": 2
}
